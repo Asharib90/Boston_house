{
 "cells": [
  {
   "cell_type": "code",
   "execution_count": 2,
   "metadata": {},
   "outputs": [],
   "source": [
    "import numpy as np\n",
    "from keras.datasets import boston_housing\n",
    "from keras import models\n",
    "from keras import layers\n",
    "import matplotlib.pyplot as plt"
   ]
  },
  {
   "cell_type": "markdown",
   "metadata": {},
   "source": [
    "# Loading the Boston housing dataset"
   ]
  },
  {
   "cell_type": "code",
   "execution_count": 3,
   "metadata": {},
   "outputs": [
    {
     "name": "stdout",
     "output_type": "stream",
     "text": [
      "Downloading data from https://storage.googleapis.com/tensorflow/tf-keras-datasets/boston_housing.npz\n",
      "57344/57026 [==============================] - 0s 1us/step\n"
     ]
    }
   ],
   "source": [
    "(train_data, train_targets), (test_data, test_targets) = boston_housing.load_data()"
   ]
  },
  {
   "cell_type": "code",
   "execution_count": 4,
   "metadata": {},
   "outputs": [
    {
     "data": {
      "text/plain": [
       "(404, 13)"
      ]
     },
     "execution_count": 4,
     "metadata": {},
     "output_type": "execute_result"
    }
   ],
   "source": [
    "train_data.shape"
   ]
  },
  {
   "cell_type": "code",
   "execution_count": 6,
   "metadata": {},
   "outputs": [
    {
     "data": {
      "text/plain": [
       "(102, 13)"
      ]
     },
     "execution_count": 6,
     "metadata": {},
     "output_type": "execute_result"
    }
   ],
   "source": [
    "test_data.shape"
   ]
  },
  {
   "cell_type": "code",
   "execution_count": 17,
   "metadata": {},
   "outputs": [
    {
     "data": {
      "text/plain": [
       "11"
      ]
     },
     "execution_count": 17,
     "metadata": {},
     "output_type": "execute_result"
    }
   ],
   "source": [
    " np.count_nonzero(train_data[42]) "
   ]
  },
  {
   "cell_type": "code",
   "execution_count": 20,
   "metadata": {},
   "outputs": [
    {
     "data": {
      "text/plain": [
       "21.1"
      ]
     },
     "execution_count": 20,
     "metadata": {},
     "output_type": "execute_result"
    }
   ],
   "source": [
    "train_targets[3]"
   ]
  },
  {
   "cell_type": "code",
   "execution_count": 21,
   "metadata": {},
   "outputs": [
    {
     "data": {
      "text/plain": [
       "array([5.0830e-02, 0.0000e+00, 5.1900e+00, 0.0000e+00, 5.1500e-01,\n",
       "       6.3160e+00, 3.8100e+01, 6.4584e+00, 5.0000e+00, 2.2400e+02,\n",
       "       2.0200e+01, 3.8971e+02, 5.6800e+00])"
      ]
     },
     "execution_count": 21,
     "metadata": {},
     "output_type": "execute_result"
    }
   ],
   "source": [
    "train_data[42] "
   ]
  },
  {
   "cell_type": "markdown",
   "metadata": {},
   "source": [
    "# Normalizing the data"
   ]
  },
  {
   "cell_type": "code",
   "execution_count": 22,
   "metadata": {},
   "outputs": [],
   "source": [
    "mean = train_data.mean(axis=0)\n",
    "train_data -= mean\n",
    "std = train_data.std(axis=0)\n",
    "train_data /= std\n",
    "test_data -= mean\n",
    "test_data /= std"
   ]
  },
  {
   "cell_type": "markdown",
   "metadata": {},
   "source": [
    "# Building your network"
   ]
  },
  {
   "cell_type": "code",
   "execution_count": 25,
   "metadata": {},
   "outputs": [],
   "source": [
    "def build_model():\n",
    "    model = models.Sequential()\n",
    "    model.add(layers.Dense(64, activation='relu',\n",
    "    input_shape=(train_data.shape[1],)))\n",
    "    model.add(layers.Dense(64, activation='relu'))\n",
    "    model.add(layers.Dense(1))\n",
    "    model.compile(optimizer='rmsprop', loss='mse', metrics=['mae'])\n",
    "    return model"
   ]
  },
  {
   "cell_type": "markdown",
   "metadata": {},
   "source": [
    "# Validating your approach using K-fold validation"
   ]
  },
  {
   "cell_type": "code",
   "execution_count": 26,
   "metadata": {},
   "outputs": [],
   "source": [
    "import numpy as np\n",
    "k = 4\n",
    "num_val_samples = len(train_data) // k\n",
    "num_epochs = 10\n",
    "all_scores = []"
   ]
  },
  {
   "cell_type": "code",
   "execution_count": 28,
   "metadata": {},
   "outputs": [
    {
     "name": "stdout",
     "output_type": "stream",
     "text": [
      "processing fold # 0\n",
      "processing fold # 1\n",
      "processing fold # 2\n",
      "processing fold # 3\n"
     ]
    }
   ],
   "source": [
    "for i in range(k):\n",
    "    print('processing fold #', i)\n",
    "    val_data = train_data[i * num_val_samples: (i + 1) * num_val_samples]\n",
    "    val_targets = train_targets[i * num_val_samples: (i + 1) * num_val_samples]\n",
    "    partial_train_data = np.concatenate(\n",
    "        [train_data[:i * num_val_samples],\n",
    "        train_data[(i + 1) * num_val_samples:]],\n",
    "        axis=0)\n",
    "    partial_train_targets = np.concatenate(\n",
    "         [train_targets[:i * num_val_samples],\n",
    "         train_targets[(i + 1) * num_val_samples:]],\n",
    "         axis=0)\n",
    "    model = build_model()\n",
    "    model.fit(partial_train_data, partial_train_targets,\n",
    "              epochs=num_epochs, batch_size=1, verbose=0)\n",
    "    val_mse, val_mae = model.evaluate(val_data, val_targets, verbose=0)\n",
    "    all_scores.append(val_mae)"
   ]
  },
  {
   "cell_type": "code",
   "execution_count": 36,
   "metadata": {},
   "outputs": [
    {
     "data": {
      "text/plain": [
       "[2.629143476486206, 2.713118553161621, 2.5826797485351562, 2.7579989433288574]"
      ]
     },
     "execution_count": 36,
     "metadata": {},
     "output_type": "execute_result"
    }
   ],
   "source": [
    "all_scores"
   ]
  },
  {
   "cell_type": "code",
   "execution_count": 37,
   "metadata": {},
   "outputs": [
    {
     "data": {
      "text/plain": [
       "2.67073518037796"
      ]
     },
     "execution_count": 37,
     "metadata": {},
     "output_type": "execute_result"
    }
   ],
   "source": [
    "np.mean(all_scores)"
   ]
  },
  {
   "cell_type": "code",
   "execution_count": 48,
   "metadata": {},
   "outputs": [
    {
     "name": "stdout",
     "output_type": "stream",
     "text": [
      "processing fold # 0\n",
      "Epoch 1/50\n",
      "303/303 [==============================] - 0s 1ms/step - loss: 228.9825 - mae: 11.4985 - val_loss: 39.2727 - val_mae: 3.9706\n",
      "Epoch 2/50\n",
      "303/303 [==============================] - 0s 1ms/step - loss: 30.4596 - mae: 3.8174 - val_loss: 28.1104 - val_mae: 3.2708\n",
      "Epoch 3/50\n",
      "303/303 [==============================] - 0s 1ms/step - loss: 22.0167 - mae: 3.2280 - val_loss: 20.1091 - val_mae: 2.7947\n",
      "Epoch 4/50\n",
      "303/303 [==============================] - 0s 1ms/step - loss: 18.6269 - mae: 2.9006 - val_loss: 18.1482 - val_mae: 2.8426\n",
      "Epoch 5/50\n",
      "303/303 [==============================] - 0s 1ms/step - loss: 16.5625 - mae: 2.7997 - val_loss: 16.1675 - val_mae: 2.5389\n",
      "Epoch 6/50\n",
      "303/303 [==============================] - 0s 2ms/step - loss: 15.6731 - mae: 2.6432 - val_loss: 14.3951 - val_mae: 2.4744\n",
      "Epoch 7/50\n",
      "303/303 [==============================] - 0s 2ms/step - loss: 14.1350 - mae: 2.5124 - val_loss: 12.9821 - val_mae: 2.5523\n",
      "Epoch 8/50\n",
      "303/303 [==============================] - 0s 1ms/step - loss: 13.7096 - mae: 2.4542 - val_loss: 12.9583 - val_mae: 2.3368\n",
      "Epoch 9/50\n",
      "303/303 [==============================] - 0s 1ms/step - loss: 12.9877 - mae: 2.3613 - val_loss: 12.6504 - val_mae: 2.3874\n",
      "Epoch 10/50\n",
      "303/303 [==============================] - 0s 1ms/step - loss: 11.8598 - mae: 2.3936 - val_loss: 11.4799 - val_mae: 2.1498\n",
      "Epoch 11/50\n",
      "303/303 [==============================] - 0s 1ms/step - loss: 12.3204 - mae: 2.3074 - val_loss: 13.8333 - val_mae: 2.6380\n",
      "Epoch 12/50\n",
      "303/303 [==============================] - 0s 1ms/step - loss: 11.8656 - mae: 2.2156 - val_loss: 10.8676 - val_mae: 2.3805\n",
      "Epoch 13/50\n",
      "303/303 [==============================] - 0s 1ms/step - loss: 10.8602 - mae: 2.2308 - val_loss: 11.1573 - val_mae: 2.0555\n",
      "Epoch 14/50\n",
      "303/303 [==============================] - 0s 1ms/step - loss: 10.8112 - mae: 2.2061 - val_loss: 9.9404 - val_mae: 2.2797\n",
      "Epoch 15/50\n",
      "303/303 [==============================] - 0s 1ms/step - loss: 10.7166 - mae: 2.2003 - val_loss: 9.7824 - val_mae: 2.2357\n",
      "Epoch 16/50\n",
      "303/303 [==============================] - 0s 1ms/step - loss: 10.4662 - mae: 2.0941 - val_loss: 9.0300 - val_mae: 2.1855\n",
      "Epoch 17/50\n",
      "303/303 [==============================] - 0s 1ms/step - loss: 9.7849 - mae: 2.0950 - val_loss: 9.2157 - val_mae: 1.9371\n",
      "Epoch 18/50\n",
      "303/303 [==============================] - 0s 1ms/step - loss: 9.6149 - mae: 2.0928 - val_loss: 9.9601 - val_mae: 1.9940\n",
      "Epoch 19/50\n",
      "303/303 [==============================] - 0s 1ms/step - loss: 9.0899 - mae: 2.0506 - val_loss: 8.9717 - val_mae: 1.9047\n",
      "Epoch 20/50\n",
      "303/303 [==============================] - 0s 1ms/step - loss: 9.2812 - mae: 2.0252 - val_loss: 9.0533 - val_mae: 2.0549\n",
      "Epoch 21/50\n",
      "303/303 [==============================] - 1s 2ms/step - loss: 9.0612 - mae: 2.0035 - val_loss: 8.8325 - val_mae: 2.1389\n",
      "Epoch 22/50\n",
      "303/303 [==============================] - 0s 2ms/step - loss: 9.0294 - mae: 2.0330 - val_loss: 8.2701 - val_mae: 2.0278\n",
      "Epoch 23/50\n",
      "303/303 [==============================] - 0s 1ms/step - loss: 8.5097 - mae: 1.9812 - val_loss: 10.0682 - val_mae: 2.2734\n",
      "Epoch 24/50\n",
      "303/303 [==============================] - 0s 1ms/step - loss: 8.5247 - mae: 1.9678 - val_loss: 8.4732 - val_mae: 2.0493\n",
      "Epoch 25/50\n",
      "303/303 [==============================] - 0s 1ms/step - loss: 8.4974 - mae: 1.9081 - val_loss: 8.1529 - val_mae: 2.0071\n",
      "Epoch 26/50\n",
      "303/303 [==============================] - 0s 1ms/step - loss: 8.5541 - mae: 1.9243 - val_loss: 7.8790 - val_mae: 2.0138\n",
      "Epoch 27/50\n",
      "303/303 [==============================] - 0s 1ms/step - loss: 8.1655 - mae: 1.9214 - val_loss: 10.4933 - val_mae: 2.4207\n",
      "Epoch 28/50\n",
      "303/303 [==============================] - 1s 2ms/step - loss: 8.3682 - mae: 1.8729 - val_loss: 8.6522 - val_mae: 2.0161\n",
      "Epoch 29/50\n",
      "303/303 [==============================] - 1s 2ms/step - loss: 8.1100 - mae: 1.8885 - val_loss: 8.2849 - val_mae: 2.1599\n",
      "Epoch 30/50\n",
      "303/303 [==============================] - 1s 2ms/step - loss: 8.2432 - mae: 1.8519 - val_loss: 9.1626 - val_mae: 2.0555\n",
      "Epoch 31/50\n",
      "303/303 [==============================] - 1s 2ms/step - loss: 7.8128 - mae: 1.8171 - val_loss: 9.2359 - val_mae: 2.2330\n",
      "Epoch 32/50\n",
      "303/303 [==============================] - 1s 2ms/step - loss: 7.4743 - mae: 1.8127 - val_loss: 7.9436 - val_mae: 2.1334\n",
      "Epoch 33/50\n",
      "303/303 [==============================] - 1s 2ms/step - loss: 7.6169 - mae: 1.7995 - val_loss: 7.8422 - val_mae: 2.1379\n",
      "Epoch 34/50\n",
      "303/303 [==============================] - 1s 2ms/step - loss: 7.4221 - mae: 1.7735 - val_loss: 8.9370 - val_mae: 1.9756\n",
      "Epoch 35/50\n",
      "303/303 [==============================] - 0s 1ms/step - loss: 7.4565 - mae: 1.7235 - val_loss: 7.8070 - val_mae: 1.9663\n",
      "Epoch 36/50\n",
      "303/303 [==============================] - 0s 1ms/step - loss: 7.4893 - mae: 1.8033 - val_loss: 7.5181 - val_mae: 1.9758\n",
      "Epoch 37/50\n",
      "303/303 [==============================] - 0s 1ms/step - loss: 7.1693 - mae: 1.8369 - val_loss: 9.0609 - val_mae: 2.2806\n",
      "Epoch 38/50\n",
      "303/303 [==============================] - 0s 1ms/step - loss: 7.3615 - mae: 1.8002 - val_loss: 8.2938 - val_mae: 2.2395\n",
      "Epoch 39/50\n",
      "303/303 [==============================] - 0s 1ms/step - loss: 7.0284 - mae: 1.7620 - val_loss: 7.4257 - val_mae: 2.0231\n",
      "Epoch 40/50\n",
      "303/303 [==============================] - 0s 1ms/step - loss: 6.7512 - mae: 1.7595 - val_loss: 8.3380 - val_mae: 2.0822\n",
      "Epoch 41/50\n",
      "303/303 [==============================] - 0s 2ms/step - loss: 6.5794 - mae: 1.7208 - val_loss: 8.0736 - val_mae: 2.1908\n",
      "Epoch 42/50\n",
      "303/303 [==============================] - 1s 2ms/step - loss: 7.0006 - mae: 1.7668 - val_loss: 7.9668 - val_mae: 2.1157\n",
      "Epoch 43/50\n",
      "303/303 [==============================] - 1s 2ms/step - loss: 7.0285 - mae: 1.7513 - val_loss: 8.3203 - val_mae: 2.0095\n",
      "Epoch 44/50\n",
      "303/303 [==============================] - 0s 2ms/step - loss: 6.2227 - mae: 1.7039 - val_loss: 7.6183 - val_mae: 1.9811\n",
      "Epoch 45/50\n",
      "303/303 [==============================] - 0s 2ms/step - loss: 6.9778 - mae: 1.7172 - val_loss: 8.3085 - val_mae: 2.1496\n",
      "Epoch 46/50\n",
      "303/303 [==============================] - 0s 1ms/step - loss: 6.6124 - mae: 1.6946 - val_loss: 8.1556 - val_mae: 1.9738\n",
      "Epoch 47/50\n",
      "303/303 [==============================] - 0s 1ms/step - loss: 6.1767 - mae: 1.7247 - val_loss: 7.3698 - val_mae: 1.9222\n",
      "Epoch 48/50\n",
      "303/303 [==============================] - 1s 2ms/step - loss: 6.4323 - mae: 1.7171 - val_loss: 9.6308 - val_mae: 2.2795\n",
      "Epoch 49/50\n",
      "303/303 [==============================] - 0s 2ms/step - loss: 6.3229 - mae: 1.6845 - val_loss: 8.4742 - val_mae: 2.2724\n",
      "Epoch 50/50\n",
      "303/303 [==============================] - 0s 2ms/step - loss: 6.1039 - mae: 1.6917 - val_loss: 8.0252 - val_mae: 2.0751\n",
      "processing fold # 1\n",
      "Epoch 1/50\n",
      "303/303 [==============================] - 1s 3ms/step - loss: 216.1040 - mae: 11.2863 - val_loss: 41.0475 - val_mae: 4.4598\n",
      "Epoch 2/50\n",
      "303/303 [==============================] - 0s 1ms/step - loss: 33.6532 - mae: 3.8864 - val_loss: 19.2686 - val_mae: 3.3610\n",
      "Epoch 3/50\n",
      "303/303 [==============================] - 0s 1ms/step - loss: 21.8623 - mae: 3.1660 - val_loss: 17.3481 - val_mae: 3.1424\n",
      "Epoch 4/50\n",
      "303/303 [==============================] - 0s 1ms/step - loss: 17.6004 - mae: 2.8828 - val_loss: 16.3353 - val_mae: 3.1287\n",
      "Epoch 5/50\n",
      "303/303 [==============================] - 0s 1ms/step - loss: 14.9314 - mae: 2.6499 - val_loss: 13.9170 - val_mae: 2.7940\n",
      "Epoch 6/50\n",
      "303/303 [==============================] - 0s 1ms/step - loss: 14.2286 - mae: 2.5186 - val_loss: 12.1651 - val_mae: 2.7166\n",
      "Epoch 7/50\n",
      "303/303 [==============================] - 0s 1ms/step - loss: 12.3422 - mae: 2.3666 - val_loss: 12.7521 - val_mae: 2.8211\n",
      "Epoch 8/50\n",
      "303/303 [==============================] - 0s 1ms/step - loss: 11.4487 - mae: 2.3194 - val_loss: 15.9340 - val_mae: 3.1069\n",
      "Epoch 9/50\n",
      "303/303 [==============================] - 0s 1ms/step - loss: 11.1618 - mae: 2.2857 - val_loss: 11.7164 - val_mae: 2.6700\n",
      "Epoch 10/50\n",
      "303/303 [==============================] - 0s 1ms/step - loss: 11.1347 - mae: 2.2432 - val_loss: 10.3461 - val_mae: 2.5036\n",
      "Epoch 11/50\n",
      "303/303 [==============================] - 0s 1ms/step - loss: 10.3189 - mae: 2.2135 - val_loss: 11.9242 - val_mae: 2.5744\n",
      "Epoch 12/50\n"
     ]
    },
    {
     "name": "stdout",
     "output_type": "stream",
     "text": [
      "303/303 [==============================] - 0s 1ms/step - loss: 10.3713 - mae: 2.1575 - val_loss: 10.3740 - val_mae: 2.4815\n",
      "Epoch 13/50\n",
      "303/303 [==============================] - 0s 1ms/step - loss: 10.1612 - mae: 2.1678 - val_loss: 11.9770 - val_mae: 2.7356\n",
      "Epoch 14/50\n",
      "303/303 [==============================] - 0s 1ms/step - loss: 9.7718 - mae: 2.1278 - val_loss: 12.0803 - val_mae: 2.7771\n",
      "Epoch 15/50\n",
      "303/303 [==============================] - 0s 1ms/step - loss: 9.7268 - mae: 2.1361 - val_loss: 10.1522 - val_mae: 2.5057\n",
      "Epoch 16/50\n",
      "303/303 [==============================] - 0s 1ms/step - loss: 9.0641 - mae: 2.0221 - val_loss: 9.2526 - val_mae: 2.4309\n",
      "Epoch 17/50\n",
      "303/303 [==============================] - 0s 1ms/step - loss: 9.4508 - mae: 2.0631 - val_loss: 9.8755 - val_mae: 2.4708\n",
      "Epoch 18/50\n",
      "303/303 [==============================] - 0s 1ms/step - loss: 8.9922 - mae: 2.0360 - val_loss: 9.7694 - val_mae: 2.4276\n",
      "Epoch 19/50\n",
      "303/303 [==============================] - 0s 1ms/step - loss: 8.9442 - mae: 2.0024 - val_loss: 10.4406 - val_mae: 2.5709\n",
      "Epoch 20/50\n",
      "303/303 [==============================] - 0s 1ms/step - loss: 8.8894 - mae: 2.0423 - val_loss: 9.6552 - val_mae: 2.4126\n",
      "Epoch 21/50\n",
      "303/303 [==============================] - 0s 1ms/step - loss: 8.5938 - mae: 1.9357 - val_loss: 10.7919 - val_mae: 2.5798\n",
      "Epoch 22/50\n",
      "303/303 [==============================] - 0s 1ms/step - loss: 8.9533 - mae: 1.9365 - val_loss: 10.9505 - val_mae: 2.6403\n",
      "Epoch 23/50\n",
      "303/303 [==============================] - 0s 1ms/step - loss: 8.1241 - mae: 1.9361 - val_loss: 9.8695 - val_mae: 2.4684\n",
      "Epoch 24/50\n",
      "303/303 [==============================] - 0s 1ms/step - loss: 8.3308 - mae: 1.9766 - val_loss: 9.6550 - val_mae: 2.4245\n",
      "Epoch 25/50\n",
      "303/303 [==============================] - 0s 1ms/step - loss: 8.3186 - mae: 1.9291 - val_loss: 9.4461 - val_mae: 2.3782\n",
      "Epoch 26/50\n",
      "303/303 [==============================] - 0s 1ms/step - loss: 8.3004 - mae: 1.9260 - val_loss: 9.8056 - val_mae: 2.4746\n",
      "Epoch 27/50\n",
      "303/303 [==============================] - 0s 1ms/step - loss: 7.6792 - mae: 1.8828 - val_loss: 8.3900 - val_mae: 2.2569\n",
      "Epoch 28/50\n",
      "303/303 [==============================] - 0s 1ms/step - loss: 7.8343 - mae: 1.8251 - val_loss: 8.9617 - val_mae: 2.3627\n",
      "Epoch 29/50\n",
      "303/303 [==============================] - 0s 1ms/step - loss: 7.6320 - mae: 1.8877 - val_loss: 10.1804 - val_mae: 2.4961\n",
      "Epoch 30/50\n",
      "303/303 [==============================] - 0s 1ms/step - loss: 7.6421 - mae: 1.7934 - val_loss: 9.7292 - val_mae: 2.4259\n",
      "Epoch 31/50\n",
      "303/303 [==============================] - 0s 1ms/step - loss: 7.5774 - mae: 1.8259 - val_loss: 10.0584 - val_mae: 2.4428\n",
      "Epoch 32/50\n",
      "303/303 [==============================] - 0s 1ms/step - loss: 7.3675 - mae: 1.7636 - val_loss: 9.5611 - val_mae: 2.3894\n",
      "Epoch 33/50\n",
      "303/303 [==============================] - 0s 1ms/step - loss: 7.3045 - mae: 1.7321 - val_loss: 10.7469 - val_mae: 2.5583\n",
      "Epoch 34/50\n",
      "303/303 [==============================] - 0s 1ms/step - loss: 6.7659 - mae: 1.7556 - val_loss: 9.0167 - val_mae: 2.3247\n",
      "Epoch 35/50\n",
      "303/303 [==============================] - 0s 1ms/step - loss: 7.1659 - mae: 1.7806 - val_loss: 8.6294 - val_mae: 2.3003\n",
      "Epoch 36/50\n",
      "303/303 [==============================] - 0s 1ms/step - loss: 7.0537 - mae: 1.7850 - val_loss: 9.5966 - val_mae: 2.4802\n",
      "Epoch 37/50\n",
      "303/303 [==============================] - 0s 1ms/step - loss: 6.8905 - mae: 1.7369 - val_loss: 11.7548 - val_mae: 2.7760\n",
      "Epoch 38/50\n",
      "303/303 [==============================] - 0s 1ms/step - loss: 6.8564 - mae: 1.7512 - val_loss: 11.9661 - val_mae: 2.7944\n",
      "Epoch 39/50\n",
      "303/303 [==============================] - 0s 1ms/step - loss: 6.6307 - mae: 1.7296 - val_loss: 8.2893 - val_mae: 2.2262\n",
      "Epoch 40/50\n",
      "303/303 [==============================] - 0s 1ms/step - loss: 7.0118 - mae: 1.7220 - val_loss: 7.7914 - val_mae: 2.1993\n",
      "Epoch 41/50\n",
      "303/303 [==============================] - 0s 1ms/step - loss: 6.5670 - mae: 1.7167 - val_loss: 7.8031 - val_mae: 2.1708\n",
      "Epoch 42/50\n",
      "303/303 [==============================] - 0s 1ms/step - loss: 6.7007 - mae: 1.6648 - val_loss: 8.5389 - val_mae: 2.2610\n",
      "Epoch 43/50\n",
      "303/303 [==============================] - 0s 1ms/step - loss: 6.4037 - mae: 1.6579 - val_loss: 9.5157 - val_mae: 2.4093\n",
      "Epoch 44/50\n",
      "303/303 [==============================] - 0s 1ms/step - loss: 6.5140 - mae: 1.7889 - val_loss: 7.9244 - val_mae: 2.1288\n",
      "Epoch 45/50\n",
      "303/303 [==============================] - 0s 1ms/step - loss: 5.9906 - mae: 1.6441 - val_loss: 9.5775 - val_mae: 2.4678\n",
      "Epoch 46/50\n",
      "303/303 [==============================] - 0s 1ms/step - loss: 6.0519 - mae: 1.6746 - val_loss: 9.5325 - val_mae: 2.4339\n",
      "Epoch 47/50\n",
      "303/303 [==============================] - 0s 1ms/step - loss: 5.9464 - mae: 1.6734 - val_loss: 9.7975 - val_mae: 2.3753\n",
      "Epoch 48/50\n",
      "303/303 [==============================] - 0s 1ms/step - loss: 6.0186 - mae: 1.6123 - val_loss: 8.3056 - val_mae: 2.1697\n",
      "Epoch 49/50\n",
      "303/303 [==============================] - 0s 1ms/step - loss: 6.4564 - mae: 1.6166 - val_loss: 10.2003 - val_mae: 2.5315\n",
      "Epoch 50/50\n",
      "303/303 [==============================] - 0s 1ms/step - loss: 5.9320 - mae: 1.6785 - val_loss: 8.9674 - val_mae: 2.3631\n",
      "processing fold # 2\n",
      "Epoch 1/50\n",
      "303/303 [==============================] - 0s 1ms/step - loss: 191.8977 - mae: 10.3070 - val_loss: 31.5813 - val_mae: 4.0335\n",
      "Epoch 2/50\n",
      "303/303 [==============================] - 0s 1ms/step - loss: 22.6989 - mae: 3.1996 - val_loss: 22.1533 - val_mae: 3.0797\n",
      "Epoch 3/50\n",
      "303/303 [==============================] - 0s 1ms/step - loss: 17.2382 - mae: 2.8381 - val_loss: 20.4175 - val_mae: 3.0840\n",
      "Epoch 4/50\n",
      "303/303 [==============================] - 0s 1ms/step - loss: 14.7280 - mae: 2.6734 - val_loss: 18.2416 - val_mae: 2.7455\n",
      "Epoch 5/50\n",
      "303/303 [==============================] - 0s 1ms/step - loss: 12.8164 - mae: 2.5092 - val_loss: 16.7643 - val_mae: 2.6682\n",
      "Epoch 6/50\n",
      "303/303 [==============================] - 0s 1ms/step - loss: 11.8380 - mae: 2.4967 - val_loss: 16.2915 - val_mae: 2.7889\n",
      "Epoch 7/50\n",
      "303/303 [==============================] - 0s 1ms/step - loss: 11.2702 - mae: 2.3955 - val_loss: 16.0232 - val_mae: 2.5477\n",
      "Epoch 8/50\n",
      "303/303 [==============================] - 0s 1ms/step - loss: 10.9340 - mae: 2.3296 - val_loss: 18.9980 - val_mae: 2.9395\n",
      "Epoch 9/50\n",
      "303/303 [==============================] - 0s 1ms/step - loss: 10.7237 - mae: 2.2777 - val_loss: 16.4681 - val_mae: 2.5420\n",
      "Epoch 10/50\n",
      "303/303 [==============================] - 0s 1ms/step - loss: 10.0003 - mae: 2.1943 - val_loss: 16.3794 - val_mae: 2.6209\n",
      "Epoch 11/50\n",
      "303/303 [==============================] - 0s 1ms/step - loss: 9.1679 - mae: 2.1308 - val_loss: 15.7008 - val_mae: 2.5265\n",
      "Epoch 12/50\n",
      "303/303 [==============================] - 0s 1ms/step - loss: 9.2083 - mae: 2.1031 - val_loss: 15.5288 - val_mae: 2.5112\n",
      "Epoch 13/50\n",
      "303/303 [==============================] - 0s 1ms/step - loss: 8.6528 - mae: 2.0606 - val_loss: 17.1679 - val_mae: 2.6051\n",
      "Epoch 14/50\n",
      "303/303 [==============================] - 0s 1ms/step - loss: 8.7394 - mae: 2.0355 - val_loss: 15.0899 - val_mae: 2.4910\n",
      "Epoch 15/50\n",
      "303/303 [==============================] - 0s 1ms/step - loss: 8.5038 - mae: 1.9934 - val_loss: 14.6801 - val_mae: 2.5778\n",
      "Epoch 16/50\n",
      "303/303 [==============================] - 0s 1ms/step - loss: 7.9700 - mae: 1.9659 - val_loss: 13.6839 - val_mae: 2.4644\n",
      "Epoch 17/50\n",
      "303/303 [==============================] - 0s 1ms/step - loss: 7.6496 - mae: 1.8635 - val_loss: 16.4400 - val_mae: 2.9817\n",
      "Epoch 18/50\n",
      "303/303 [==============================] - 0s 1ms/step - loss: 7.7588 - mae: 1.9596 - val_loss: 14.0698 - val_mae: 2.3964\n",
      "Epoch 19/50\n",
      "303/303 [==============================] - 0s 1ms/step - loss: 8.0875 - mae: 1.9834 - val_loss: 14.1065 - val_mae: 2.4808\n",
      "Epoch 20/50\n",
      "303/303 [==============================] - 0s 1ms/step - loss: 7.6235 - mae: 1.9606 - val_loss: 13.8271 - val_mae: 2.5653\n",
      "Epoch 21/50\n",
      "303/303 [==============================] - 0s 1ms/step - loss: 7.1041 - mae: 1.8565 - val_loss: 14.7637 - val_mae: 2.5229\n",
      "Epoch 22/50\n",
      "303/303 [==============================] - 0s 1ms/step - loss: 7.2037 - mae: 1.8752 - val_loss: 13.7767 - val_mae: 2.3228\n",
      "Epoch 23/50\n",
      "303/303 [==============================] - 0s 1ms/step - loss: 7.2373 - mae: 1.8883 - val_loss: 14.4467 - val_mae: 2.6376\n",
      "Epoch 24/50\n",
      "303/303 [==============================] - 0s 1ms/step - loss: 7.3255 - mae: 1.8799 - val_loss: 13.6087 - val_mae: 2.4462\n",
      "Epoch 25/50\n",
      "303/303 [==============================] - 0s 1ms/step - loss: 6.8734 - mae: 1.8318 - val_loss: 15.9005 - val_mae: 2.6089\n",
      "Epoch 26/50\n",
      "303/303 [==============================] - 0s 1ms/step - loss: 6.5766 - mae: 1.7812 - val_loss: 15.2796 - val_mae: 2.7189\n",
      "Epoch 27/50\n",
      "303/303 [==============================] - 0s 1ms/step - loss: 6.9430 - mae: 1.8534 - val_loss: 14.5003 - val_mae: 2.4652\n",
      "Epoch 28/50\n",
      "303/303 [==============================] - 0s 1ms/step - loss: 6.9383 - mae: 1.8123 - val_loss: 14.6723 - val_mae: 2.4932\n",
      "Epoch 29/50\n",
      "303/303 [==============================] - 0s 1ms/step - loss: 6.7850 - mae: 1.7591 - val_loss: 13.7908 - val_mae: 2.4194\n",
      "Epoch 30/50\n",
      "303/303 [==============================] - 0s 1ms/step - loss: 6.3493 - mae: 1.7355 - val_loss: 15.5968 - val_mae: 2.5661\n",
      "Epoch 31/50\n",
      "303/303 [==============================] - 0s 1ms/step - loss: 6.7048 - mae: 1.7709 - val_loss: 14.5573 - val_mae: 2.5893\n",
      "Epoch 32/50\n",
      "303/303 [==============================] - 0s 1ms/step - loss: 6.4601 - mae: 1.7407 - val_loss: 13.5194 - val_mae: 2.3985\n",
      "Epoch 33/50\n",
      "303/303 [==============================] - 0s 1ms/step - loss: 6.1790 - mae: 1.6989 - val_loss: 13.3080 - val_mae: 2.4696\n",
      "Epoch 34/50\n",
      "303/303 [==============================] - 0s 1ms/step - loss: 5.9598 - mae: 1.7144 - val_loss: 14.5189 - val_mae: 2.5339\n",
      "Epoch 35/50\n",
      "303/303 [==============================] - 0s 1ms/step - loss: 5.7127 - mae: 1.6686 - val_loss: 16.5019 - val_mae: 2.8565\n",
      "Epoch 36/50\n",
      "303/303 [==============================] - 0s 1ms/step - loss: 6.0773 - mae: 1.7369 - val_loss: 13.9003 - val_mae: 2.5765\n",
      "Epoch 37/50\n",
      "303/303 [==============================] - 0s 1ms/step - loss: 5.9499 - mae: 1.6892 - val_loss: 12.8196 - val_mae: 2.3365\n",
      "Epoch 38/50\n",
      "303/303 [==============================] - 0s 1ms/step - loss: 5.8249 - mae: 1.6662 - val_loss: 14.1034 - val_mae: 2.4810\n",
      "Epoch 39/50\n",
      "303/303 [==============================] - 0s 1ms/step - loss: 5.9475 - mae: 1.6689 - val_loss: 14.8818 - val_mae: 2.7051\n",
      "Epoch 40/50\n",
      "303/303 [==============================] - 0s 1ms/step - loss: 5.4637 - mae: 1.6124 - val_loss: 13.8519 - val_mae: 2.4716\n",
      "Epoch 41/50\n",
      "303/303 [==============================] - 0s 1ms/step - loss: 5.8198 - mae: 1.6554 - val_loss: 13.6175 - val_mae: 2.4022\n",
      "Epoch 42/50\n",
      "303/303 [==============================] - 0s 1ms/step - loss: 5.7748 - mae: 1.6192 - val_loss: 15.6088 - val_mae: 2.7166\n",
      "Epoch 43/50\n",
      "303/303 [==============================] - 0s 1ms/step - loss: 5.4283 - mae: 1.6339 - val_loss: 13.7384 - val_mae: 2.4962\n",
      "Epoch 44/50\n",
      "303/303 [==============================] - 0s 1ms/step - loss: 5.4399 - mae: 1.6412 - val_loss: 14.1488 - val_mae: 2.4511\n",
      "Epoch 45/50\n",
      "303/303 [==============================] - 0s 1ms/step - loss: 5.5064 - mae: 1.5873 - val_loss: 14.8926 - val_mae: 2.6467\n",
      "Epoch 46/50\n",
      "303/303 [==============================] - 0s 1ms/step - loss: 5.4483 - mae: 1.5944 - val_loss: 13.8450 - val_mae: 2.5078\n",
      "Epoch 47/50\n",
      "303/303 [==============================] - 0s 1ms/step - loss: 5.1570 - mae: 1.5773 - val_loss: 15.0054 - val_mae: 2.5273\n",
      "Epoch 48/50\n",
      "303/303 [==============================] - 0s 1ms/step - loss: 5.3821 - mae: 1.6002 - val_loss: 14.4490 - val_mae: 2.5306\n",
      "Epoch 49/50\n",
      "303/303 [==============================] - 0s 1ms/step - loss: 5.3185 - mae: 1.5762 - val_loss: 15.8200 - val_mae: 2.8580\n",
      "Epoch 50/50\n",
      "303/303 [==============================] - 0s 1ms/step - loss: 5.0130 - mae: 1.5474 - val_loss: 13.2362 - val_mae: 2.4081\n",
      "processing fold # 3\n",
      "Epoch 1/50\n",
      "303/303 [==============================] - 0s 1ms/step - loss: 176.4035 - mae: 10.0309 - val_loss: 77.8761 - val_mae: 6.0948\n",
      "Epoch 2/50\n",
      "303/303 [==============================] - 0s 1ms/step - loss: 31.1989 - mae: 3.7400 - val_loss: 42.5976 - val_mae: 4.3530\n",
      "Epoch 3/50\n",
      "303/303 [==============================] - 0s 1ms/step - loss: 22.5404 - mae: 3.2192 - val_loss: 34.9694 - val_mae: 3.9554\n",
      "Epoch 4/50\n",
      "303/303 [==============================] - 0s 1ms/step - loss: 18.9247 - mae: 2.9005 - val_loss: 32.7692 - val_mae: 3.7234\n",
      "Epoch 5/50\n",
      "303/303 [==============================] - 0s 1ms/step - loss: 16.2462 - mae: 2.6515 - val_loss: 27.0923 - val_mae: 3.3402\n",
      "Epoch 6/50\n",
      "303/303 [==============================] - 0s 1ms/step - loss: 14.6814 - mae: 2.4890 - val_loss: 22.4912 - val_mae: 2.8828\n",
      "Epoch 7/50\n",
      "303/303 [==============================] - 0s 1ms/step - loss: 13.3902 - mae: 2.4324 - val_loss: 20.1881 - val_mae: 2.8610\n",
      "Epoch 8/50\n",
      "303/303 [==============================] - 0s 1ms/step - loss: 11.7269 - mae: 2.3216 - val_loss: 20.4569 - val_mae: 2.8353\n",
      "Epoch 9/50\n",
      "303/303 [==============================] - 0s 1ms/step - loss: 11.8435 - mae: 2.2507 - val_loss: 19.6323 - val_mae: 2.8971\n",
      "Epoch 10/50\n",
      "303/303 [==============================] - 0s 1ms/step - loss: 11.4719 - mae: 2.2015 - val_loss: 17.3317 - val_mae: 2.6899\n",
      "Epoch 11/50\n",
      "303/303 [==============================] - 0s 1ms/step - loss: 10.1341 - mae: 2.1564 - val_loss: 16.6539 - val_mae: 2.5334\n",
      "Epoch 12/50\n",
      "303/303 [==============================] - 0s 1ms/step - loss: 10.4967 - mae: 2.0998 - val_loss: 16.3911 - val_mae: 2.7907\n",
      "Epoch 13/50\n",
      "303/303 [==============================] - 0s 1ms/step - loss: 10.1390 - mae: 2.1201 - val_loss: 17.0920 - val_mae: 2.6850\n",
      "Epoch 14/50\n",
      "303/303 [==============================] - 0s 1ms/step - loss: 9.6417 - mae: 2.0875 - val_loss: 17.5452 - val_mae: 2.7192\n",
      "Epoch 15/50\n",
      "303/303 [==============================] - 0s 1ms/step - loss: 9.7433 - mae: 2.0850 - val_loss: 16.6419 - val_mae: 2.6624\n",
      "Epoch 16/50\n",
      "303/303 [==============================] - 0s 1ms/step - loss: 9.4828 - mae: 2.0344 - val_loss: 19.0238 - val_mae: 2.7871\n",
      "Epoch 17/50\n",
      "303/303 [==============================] - 0s 1ms/step - loss: 9.5775 - mae: 2.0692 - val_loss: 17.1506 - val_mae: 2.8384\n",
      "Epoch 18/50\n",
      "303/303 [==============================] - 0s 1ms/step - loss: 9.4428 - mae: 2.0345 - val_loss: 15.0102 - val_mae: 2.5397\n",
      "Epoch 19/50\n",
      "303/303 [==============================] - 0s 2ms/step - loss: 9.1512 - mae: 2.0070 - val_loss: 13.7307 - val_mae: 2.4396\n",
      "Epoch 20/50\n",
      "303/303 [==============================] - 0s 1ms/step - loss: 9.0496 - mae: 1.9678 - val_loss: 13.3795 - val_mae: 2.4308\n",
      "Epoch 21/50\n",
      "303/303 [==============================] - 0s 1ms/step - loss: 8.5943 - mae: 1.8762 - val_loss: 12.9126 - val_mae: 2.4296\n",
      "Epoch 22/50\n",
      "303/303 [==============================] - 0s 2ms/step - loss: 8.2678 - mae: 1.9641 - val_loss: 14.7450 - val_mae: 2.7153\n",
      "Epoch 23/50\n",
      "303/303 [==============================] - 0s 2ms/step - loss: 8.6610 - mae: 1.9267 - val_loss: 12.5669 - val_mae: 2.3925\n",
      "Epoch 24/50\n",
      "303/303 [==============================] - 0s 2ms/step - loss: 8.5189 - mae: 1.9094 - val_loss: 13.0741 - val_mae: 2.4402\n",
      "Epoch 25/50\n",
      "303/303 [==============================] - 0s 2ms/step - loss: 7.9782 - mae: 1.8518 - val_loss: 13.7838 - val_mae: 2.5294\n",
      "Epoch 26/50\n",
      "303/303 [==============================] - 0s 1ms/step - loss: 8.0211 - mae: 1.9051 - val_loss: 12.6160 - val_mae: 2.4699\n",
      "Epoch 27/50\n",
      "303/303 [==============================] - 0s 1ms/step - loss: 7.6876 - mae: 1.8754 - val_loss: 17.3464 - val_mae: 3.1472\n",
      "Epoch 28/50\n",
      "303/303 [==============================] - 0s 1ms/step - loss: 7.6647 - mae: 1.8726 - val_loss: 13.6818 - val_mae: 2.5186\n",
      "Epoch 29/50\n",
      "303/303 [==============================] - 0s 1ms/step - loss: 7.6627 - mae: 1.8466 - val_loss: 14.4100 - val_mae: 2.8746\n",
      "Epoch 30/50\n",
      "303/303 [==============================] - 1s 2ms/step - loss: 7.7389 - mae: 1.8434 - val_loss: 16.3852 - val_mae: 2.8907\n",
      "Epoch 31/50\n",
      "303/303 [==============================] - 1s 2ms/step - loss: 7.5176 - mae: 1.7954 - val_loss: 15.1648 - val_mae: 2.9839\n",
      "Epoch 32/50\n",
      "303/303 [==============================] - 0s 2ms/step - loss: 7.5041 - mae: 1.7757 - val_loss: 12.1155 - val_mae: 2.4422\n",
      "Epoch 33/50\n",
      "303/303 [==============================] - 0s 2ms/step - loss: 7.3280 - mae: 1.7747 - val_loss: 14.4350 - val_mae: 2.6878\n",
      "Epoch 34/50\n"
     ]
    },
    {
     "name": "stdout",
     "output_type": "stream",
     "text": [
      "303/303 [==============================] - 0s 2ms/step - loss: 7.4806 - mae: 1.7329 - val_loss: 11.7608 - val_mae: 2.3604\n",
      "Epoch 35/50\n",
      "303/303 [==============================] - 0s 1ms/step - loss: 7.5050 - mae: 1.8026 - val_loss: 13.6442 - val_mae: 2.6115\n",
      "Epoch 36/50\n",
      "303/303 [==============================] - 0s 1ms/step - loss: 7.1076 - mae: 1.8018 - val_loss: 13.1354 - val_mae: 2.5205\n",
      "Epoch 37/50\n",
      "303/303 [==============================] - 0s 1ms/step - loss: 7.0036 - mae: 1.7108 - val_loss: 12.8661 - val_mae: 2.5158\n",
      "Epoch 38/50\n",
      "303/303 [==============================] - 0s 1ms/step - loss: 6.9748 - mae: 1.7587 - val_loss: 12.4157 - val_mae: 2.4667\n",
      "Epoch 39/50\n",
      "303/303 [==============================] - 1s 2ms/step - loss: 7.2859 - mae: 1.7808 - val_loss: 13.4054 - val_mae: 2.6337\n",
      "Epoch 40/50\n",
      "303/303 [==============================] - 0s 1ms/step - loss: 6.9030 - mae: 1.7187 - val_loss: 13.6700 - val_mae: 2.7063\n",
      "Epoch 41/50\n",
      "303/303 [==============================] - 0s 1ms/step - loss: 7.1444 - mae: 1.7639 - val_loss: 11.9962 - val_mae: 2.4511\n",
      "Epoch 42/50\n",
      "303/303 [==============================] - 0s 1ms/step - loss: 6.5792 - mae: 1.6899 - val_loss: 12.4248 - val_mae: 2.4950\n",
      "Epoch 43/50\n",
      "303/303 [==============================] - 0s 2ms/step - loss: 6.5761 - mae: 1.7009 - val_loss: 11.3924 - val_mae: 2.4045\n",
      "Epoch 44/50\n",
      "303/303 [==============================] - 0s 2ms/step - loss: 6.8743 - mae: 1.6898 - val_loss: 12.0324 - val_mae: 2.4949\n",
      "Epoch 45/50\n",
      "303/303 [==============================] - 0s 1ms/step - loss: 6.2307 - mae: 1.6512 - val_loss: 15.6101 - val_mae: 2.8832\n",
      "Epoch 46/50\n",
      "303/303 [==============================] - 0s 1ms/step - loss: 6.2746 - mae: 1.6638 - val_loss: 13.7033 - val_mae: 2.7494\n",
      "Epoch 47/50\n",
      "303/303 [==============================] - 0s 1ms/step - loss: 6.5965 - mae: 1.6893 - val_loss: 12.5329 - val_mae: 2.5120\n",
      "Epoch 48/50\n",
      "303/303 [==============================] - 0s 1ms/step - loss: 6.1940 - mae: 1.6603 - val_loss: 11.2040 - val_mae: 2.3497\n",
      "Epoch 49/50\n",
      "303/303 [==============================] - 0s 1ms/step - loss: 6.4324 - mae: 1.6773 - val_loss: 11.6451 - val_mae: 2.4541\n",
      "Epoch 50/50\n",
      "303/303 [==============================] - 0s 1ms/step - loss: 6.3566 - mae: 1.6202 - val_loss: 12.3533 - val_mae: 2.6509\n"
     ]
    }
   ],
   "source": [
    "num_epochs = 50\n",
    "all_mae_histories = []\n",
    "for i in range(k):\n",
    "    print('processing fold #', i)\n",
    "    val_data = train_data[i * num_val_samples: (i + 1) * num_val_samples]\n",
    "    val_targets = train_targets[i * num_val_samples: (i + 1) * num_val_samples]\n",
    "    \n",
    "    partial_train_data = np.concatenate(        \n",
    "        [train_data[:i * num_val_samples],\n",
    "        train_data[(i + 1) * num_val_samples:]],\n",
    "        axis=0)\n",
    "    partial_train_targets = np.concatenate(\n",
    "        [train_targets[:i * num_val_samples],\n",
    "        train_targets[(i + 1) * num_val_samples:]],\n",
    "        axis=0)\n",
    "    model = build_model()\n",
    "    history = model.fit(partial_train_data, partial_train_targets,\n",
    "                        validation_data=(val_data, val_targets),\n",
    "                        epochs=num_epochs, batch_size=1, verbose=1)\n",
    "    mae_history = history.history['val_mae']\n",
    "    all_mae_histories.append(mae_history)"
   ]
  },
  {
   "cell_type": "code",
   "execution_count": 49,
   "metadata": {},
   "outputs": [],
   "source": [
    "average_mae_history = [\n",
    "np.mean([x[i] for x in all_mae_histories]) for i in range(num_epochs)]"
   ]
  },
  {
   "cell_type": "code",
   "execution_count": 51,
   "metadata": {},
   "outputs": [
    {
     "data": {
      "image/png": "[encoded data removed]",
      "text/plain": [
       "<Figure size 432x288 with 1 Axes>"
      ]
     },
     "metadata": {
      "needs_background": "light"
     },
     "output_type": "display_data"
    }
   ],
   "source": [
    "plt.plot(range(1, len(average_mae_history) + 1), average_mae_history)\n",
    "plt.xlabel('Epochs')\n",
    "plt.ylabel('Validation MAE')\n",
    "plt.show()"
   ]
  },
  {
   "cell_type": "markdown",
   "metadata": {},
   "source": [
    "# Training the final model"
   ]
  },
  {
   "cell_type": "code",
   "execution_count": 56,
   "metadata": {},
   "outputs": [
    {
     "name": "stdout",
     "output_type": "stream",
     "text": [
      "4/4 [==============================] - 0s 1ms/step - loss: 17.2463 - mae: 2.6610\n"
     ]
    }
   ],
   "source": [
    "model = build_model()\n",
    "model.fit(train_data, train_targets,\n",
    "          epochs=80, batch_size=16, verbose=0)\n",
    "test_mse_score, test_mae_score = model.evaluate(test_data, test_targets)"
   ]
  },
  {
   "cell_type": "code",
   "execution_count": 57,
   "metadata": {},
   "outputs": [
    {
     "data": {
      "text/plain": [
       "2.6609795093536377"
      ]
     },
     "execution_count": 57,
     "metadata": {},
     "output_type": "execute_result"
    }
   ],
   "source": [
    "test_mae_score"
   ]
  },
  {
   "cell_type": "code",
   "execution_count": 48,
   "metadata": {},
   "outputs": [
    {
     "data": {
      "text/plain": [
       "(1, 13)"
      ]
     },
     "execution_count": 48,
     "metadata": {},
     "output_type": "execute_result"
    }
   ],
   "source": [
    "pred = np.random.normal(0,1,13)\n",
    "pred=np.expand_dims(pred, axis=0)\n",
    "pred.shape"
   ]
  },
  {
   "cell_type": "code",
   "execution_count": 49,
   "metadata": {},
   "outputs": [
    {
     "data": {
      "text/plain": [
       "array([[36.372295]], dtype=float32)"
      ]
     },
     "execution_count": 49,
     "metadata": {},
     "output_type": "execute_result"
    }
   ],
   "source": [
    "prediction = model.predict(pred)\n",
    "prediction"
   ]
  },
  {
   "cell_type": "code",
   "execution_count": 165,
   "metadata": {},
   "outputs": [],
   "source": [
    "model.save('boston_house.h5')"
   ]
  },
  {
   "cell_type": "markdown",
   "metadata": {},
   "source": [
    "# for practice"
   ]
  },
  {
   "cell_type": "code",
   "execution_count": 47,
   "metadata": {},
   "outputs": [],
   "source": [
    "model= models.load_model('boston_house.h5')"
   ]
  },
  {
   "cell_type": "code",
   "execution_count": 59,
   "metadata": {},
   "outputs": [
    {
     "data": {
      "text/plain": [
       "36.372295"
      ]
     },
     "execution_count": 59,
     "metadata": {},
     "output_type": "execute_result"
    }
   ],
   "source": [
    "value= np.float32([1,1,1,1,1,1,1,1,1,1,1])\n",
    "value=np.expand_dims(value, axis=0)\n",
    "prediction[0,0]"
   ]
  },
  {
   "cell_type": "code",
   "execution_count": 45,
   "metadata": {},
   "outputs": [
    {
     "name": "stdout",
     "output_type": "stream",
     "text": [
      "(1, 13)\n"
     ]
    }
   ],
   "source": [
    "value= np.float32([1,2])\n",
    "value = np.append(value, 3)\n",
    "mean = value.mean()\n",
    "value -= mean\n",
    "std = value.std()\n",
    "value /= std\n",
    "value= np.float32([1,1,1,1,1,1,1,1,1,1,1])\n",
    "value = np.append(value, )\n",
    "value=np.expand_dims(value, axis=0)\n",
    "print(value,mean, std)"
   ]
  },
  {
   "cell_type": "markdown",
   "metadata": {},
   "source": [
    " "
   ]
  }
 ],
 "metadata": {
  "kernelspec": {
   "display_name": "Python 3",
   "language": "python",
   "name": "python3"
  },
  "language_info": {
   "codemirror_mode": {
    "name": "ipython",
    "version": 3
   },
   "file_extension": ".py",
   "mimetype": "text/x-python",
   "name": "python",
   "nbconvert_exporter": "python",
   "pygments_lexer": "ipython3",
   "version": "3.8.3"
  }
 },
 "nbformat": 4,
 "nbformat_minor": 4
}
